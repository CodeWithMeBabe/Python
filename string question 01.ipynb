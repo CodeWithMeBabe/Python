{
 "cells": [
  {
   "cell_type": "code",
   "execution_count": 3,
   "id": "87043579",
   "metadata": {},
   "outputs": [
    {
     "name": "stdout",
     "output_type": "stream",
     "text": [
      "['__add__', '__class__', '__contains__', '__delattr__', '__dir__', '__doc__', '__eq__', '__format__', '__ge__', '__getattribute__', '__getitem__', '__getnewargs__', '__gt__', '__hash__', '__init__', '__init_subclass__', '__iter__', '__le__', '__len__', '__lt__', '__mod__', '__mul__', '__ne__', '__new__', '__reduce__', '__reduce_ex__', '__repr__', '__rmod__', '__rmul__', '__setattr__', '__sizeof__', '__str__', '__subclasshook__', 'capitalize', 'casefold', 'center', 'count', 'encode', 'endswith', 'expandtabs', 'find', 'format', 'format_map', 'index', 'isalnum', 'isalpha', 'isascii', 'isdecimal', 'isdigit', 'isidentifier', 'islower', 'isnumeric', 'isprintable', 'isspace', 'istitle', 'isupper', 'join', 'ljust', 'lower', 'lstrip', 'maketrans', 'partition', 'removeprefix', 'removesuffix', 'replace', 'rfind', 'rindex', 'rjust', 'rpartition', 'rsplit', 'rstrip', 'split', 'splitlines', 'startswith', 'strip', 'swapcase', 'title', 'translate', 'upper', 'zfill']\n",
      "Help on built-in function isalpha:\n",
      "\n",
      "isalpha() method of builtins.str instance\n",
      "    Return True if the string is an alphabetic string, False otherwise.\n",
      "    \n",
      "    A string is alphabetic if all characters in the string are alphabetic and there\n",
      "    is at least one character in the string.\n",
      "\n",
      "None\n"
     ]
    }
   ],
   "source": [
    "st=\"hello bh\"\n",
    "print(dir(st))     \n",
    "print(help(st.isalpha))     # from these we can know all the method of string and its function"
   ]
  },
  {
   "cell_type": "code",
   "execution_count": 4,
   "id": "ace2d629",
   "metadata": {},
   "outputs": [
    {
     "name": "stdout",
     "output_type": "stream",
     "text": [
      "WELCOME TO THE WORLD OF PYTHON\n",
      "welcome to the world of python\n",
      "['Welcome', 'TO', 'THe', 'world', 'of', 'Python']\n",
      "Welcome-TO-THe-world-of-Python\n",
      "4\n",
      "Welczme TO THe wzrld zf Pythzn\n",
      "4\n",
      "28\n",
      "Welcome To The World Of Python\n"
     ]
    }
   ],
   "source": [
    "#wap using methods (upper,lower,split,join,count,replace,find)\n",
    "st=\"Welcome TO THe world of Python\"\n",
    "print(st.upper())  #To convert to upper case\n",
    "print(st.lower())  #convert to lower case\n",
    "print(st.split(\" \"))  # split the string where space is present and return in list form\n",
    "print(\"-\".join(st.split(\" \")))   #join with -\n",
    "print(st.count('o'))           # count how many time o present in st\n",
    "print(st.replace('o','z'))    # Replace the word o with z\n",
    "print(st.find('o'))      # return index where o is present at first time from starting\n",
    "print(st.rfind('o'))    # return index where o is present at first time from ending\n",
    "print(st.title())      # to make the string into title\n"
   ]
  },
  {
   "cell_type": "code",
   "execution_count": 5,
   "id": "ca7b89ae",
   "metadata": {},
   "outputs": [
    {
     "name": "stdout",
     "output_type": "stream",
     "text": [
      "gmail.com\n",
      "Sun oct 12 20:29:16 2015\n"
     ]
    }
   ],
   "source": [
    "#find which type of mail has been used and also extract date and time\n",
    "em=\"Danishalm@gmail.com Sun oct 12 20:29:16 2015\"\n",
    "st=em.find(\"@\")+1\n",
    "en=em.find(\".com\")+4\n",
    "print(em[st:en])\n",
    "st=en+1\n",
    "en=len(em)\n",
    "print(em[st:en])"
   ]
  },
  {
   "cell_type": "code",
   "execution_count": 6,
   "id": "9fc6a6ba",
   "metadata": {},
   "outputs": [
    {
     "name": "stdout",
     "output_type": "stream",
     "text": [
      "i  i**1 i**2 i**3  i**4   i**5    i**6     i**7      i**8       i**9        i**10        \n",
      "1  1    1    1     1      1       1        1         1          1           1            \n",
      "2  2    4    8     16     32      64       128       256        512         1024         \n",
      "3  3    9    27    81     243     729      2187      6561       19683       59049        \n",
      "4  4    16   64    256    1024    4096     16384     65536      262144      1048576      \n",
      "5  5    25   125   625    3125    15625    78125     390625     1953125     9765625      \n",
      "6  6    36   216   1296   7776    46656    279936    1679616    10077696    60466176     \n",
      "7  7    49   343   2401   16807   117649   823543    5764801    40353607    282475249    \n",
      "8  8    64   512   4096   32768   262144   2097152   16777216   134217728   1073741824   \n",
      "9  9    81   729   6561   59049   531441   4782969   43046721   387420489   3486784401   \n",
      "10 10   100  1000  10000  100000  1000000  10000000  100000000  1000000000  10000000000  \n"
     ]
    }
   ],
   "source": [
    "print(\"{:<3}{:<3}{:<2}{:<3}{:<2}{:<3}{:<3}{:<3}{:<4}{:<3}{:<5}{:<3}{:<6}{:<3}{:<7}{:<3}{:<8}{:>3}{:<9}{:>3}{:<10}\"\\\n",
    "      .format(\"i\",\"i**\",1,\"i**\",2,\"i**\",3,\"i**\",4,\"i**\",5,\"i**\",6,\"i**\",7,\"i**\",8,\"i**\",9,\"i**\",10))\n",
    "for i in range(1,11):\n",
    "    print(\"{:<3}{:<5}{:<5}{:<6}{:<7}{:<8}{:<9}{:<10}{:<11}{:<12}{:<13}\"\n",
    "          .format(i,i**1,i**2,i**3,i**4,i**5,i**6,i**7,i**8,i**9,i**10))"
   ]
  },
  {
   "cell_type": "code",
   "execution_count": null,
   "id": "8dc0b59f",
   "metadata": {},
   "outputs": [],
   "source": []
  }
 ],
 "metadata": {
  "kernelspec": {
   "display_name": "Python 3 (ipykernel)",
   "language": "python",
   "name": "python3"
  },
  "language_info": {
   "codemirror_mode": {
    "name": "ipython",
    "version": 3
   },
   "file_extension": ".py",
   "mimetype": "text/x-python",
   "name": "python",
   "nbconvert_exporter": "python",
   "pygments_lexer": "ipython3",
   "version": "3.10.9"
  }
 },
 "nbformat": 4,
 "nbformat_minor": 5
}
