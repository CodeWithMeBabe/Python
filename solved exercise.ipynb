{
 "cells": [
  {
   "cell_type": "code",
   "execution_count": 1,
   "id": "04289ce6",
   "metadata": {},
   "outputs": [
    {
     "name": "stdout",
     "output_type": "stream",
     "text": [
      "Enter the quantity of item sold : 100\n",
      "Enter value of item : 80\n",
      "Enter the discount percentage : 8\n",
      "Enter the tax : 2\n",
      "************** BILL ***************\n",
      "      Quantity sold : 100.0\n",
      "     Price per item : 80.0\n",
      "              --------------\n",
      "Amount :              8000.0\n",
      "Discount :           - 640.0\n",
      "           -----------------\n",
      "Discounted Total :    7360.0\n",
      "Tax :                + 147.2\n",
      "          ------------------\n",
      "Total amount to be paid 7507.2\n"
     ]
    }
   ],
   "source": [
    "qty=float(input(\"Enter the quantity of item sold : \"))\n",
    "rate=float(input(\"Enter value of item : \"))\n",
    "dis=float(input(\"Enter the discount percentage : \"))\n",
    "tax=float(input(\"Enter the tax : \"))\n",
    "\n",
    "print(\"*\" * 14 , \"BILL\",\"*\" * 15)\n",
    "print(\"{:>22}{:>2}\".format(\"Quantity sold : \",qty))\n",
    "print(\"{:>22}{:>2}\".format(\"Price per item : \",rate))\n",
    "print(\"{:>28}\".format(\"-\" * 14))\n",
    "print(\"{} : {:>19}\".format(\"Amount\",qty*rate))\n",
    "print(\"{} : {:>11} {:>1}\".format(\"Discount\",\"-\",dis*qty*rate/100))\n",
    "print(\"{:>28}\".format(\"-\" * 17))\n",
    "print(\"{} {:>9}\".format(\"Discounted Total :\",(100-dis)*qty*rate/100))\n",
    "print(\"{} {:>15} {}\".format(\"Tax : \",\"+\",tax*(100-dis)*qty*rate/100/100))\n",
    "print(\"{:>28}\".format(\"-\"*18))\n",
    "print(\"{} {}\".format(\"Total amount to be paid\",(tax*(100-dis)*qty*rate/100/100)+((100-dis)*qty*rate/100)))\n",
    "\n"
   ]
  },
  {
   "cell_type": "markdown",
   "id": "11253f12",
   "metadata": {},
   "source": [
    "# "
   ]
  },
  {
   "cell_type": "code",
   "execution_count": 2,
   "id": "457f550e",
   "metadata": {},
   "outputs": [
    {
     "name": "stdout",
     "output_type": "stream",
     "text": [
      "Enter 3 grocerry name (space separated) : potato tomato kobhi\n",
      "Enter the quantity of eact item (space separated) : 10 20 30\n",
      "Enter the rate of each item (space separate) : 40 50 60\n",
      "dict_keys(['item Name', 'item quantity', 'Item price', 'total price'])\n",
      "dict_values([('potato', 'tomato', 'kobhi'), (10, 20, 30), (40.0, 50.0, 60.0), (400.0, 1000.0, 1800.0)])\n",
      "********************BILL********************\n",
      "  item Name  item quantity  Item price  total price\n",
      "0    potato             10        40.0        400.0\n",
      "1    tomato             20        50.0       1000.0\n",
      "2     kobhi             30        60.0       1800.0\n",
      "\n",
      " ********************************************\n",
      "Total Amount to be paid :   3200.0\n",
      "\n",
      " ********************************************\n"
     ]
    }
   ],
   "source": [
    "import pandas as pd\n",
    "import numpy as np\n",
    "x=input(\"Enter 3 grocerry name (space separated) : \").split()\n",
    "y=[int(m) for m in input(\"Enter the quantity of eact item (space separated) : \" ).split()]\n",
    "z=[float(m) for m in input(\"Enter the rate of each item (space separate) : \").split()]\n",
    "data={\"item Name\":(x[0],x[1],x[2]),\"item quantity\":(y[0],y[1],y[2]),\"Item price\":(z[0],z[1],z[2])}\n",
    "total_price=(y[0]*z[0] , y[1]*z[1] ,y[2]*z[2])\n",
    "data[\"total price\"]=total_price\n",
    "print(data.keys())\n",
    "print(data.values())\n",
    "df=pd.DataFrame(data)\n",
    "print(\"{}BILL{}\".format(\"*\" * 20,\"*\" * 20))\n",
    "print(df)\n",
    "print(\"\\n\",\"*\" * 44)\n",
    "total=[y[i]*z[i] for i in range(3)]\n",
    "total=sum(total)\n",
    "print(\"Total Amount to be paid :  \",total)\n",
    "print(\"\\n\",\"*\" * 44)\n",
    "\n"
   ]
  },
  {
   "cell_type": "code",
   "execution_count": null,
   "id": "93feaa1b",
   "metadata": {},
   "outputs": [],
   "source": []
  }
 ],
 "metadata": {
  "kernelspec": {
   "display_name": "Python 3 (ipykernel)",
   "language": "python",
   "name": "python3"
  },
  "language_info": {
   "codemirror_mode": {
    "name": "ipython",
    "version": 3
   },
   "file_extension": ".py",
   "mimetype": "text/x-python",
   "name": "python",
   "nbconvert_exporter": "python",
   "pygments_lexer": "ipython3",
   "version": "3.10.9"
  }
 },
 "nbformat": 4,
 "nbformat_minor": 5
}
