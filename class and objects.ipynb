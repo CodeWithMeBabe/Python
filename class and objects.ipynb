{
 "cells": [
  {
   "cell_type": "code",
   "execution_count": 25,
   "id": "d5583677",
   "metadata": {},
   "outputs": [
    {
     "name": "stdout",
     "output_type": "stream",
     "text": [
      "10\n",
      "10\n"
     ]
    }
   ],
   "source": [
    "class ABC:\n",
    "    var=10\n",
    "obj=ABC()\n",
    "ob=ABC()\n",
    "print(ob.var)\n",
    "ob.var=12\n",
    "print(obj.var)"
   ]
  },
  {
   "cell_type": "code",
   "execution_count": 2,
   "id": "16a743c8",
   "metadata": {},
   "outputs": [
    {
     "name": "stdout",
     "output_type": "stream",
     "text": [
      "10\n",
      "In class method.....\n"
     ]
    }
   ],
   "source": [
    "class ABC():\n",
    "    var=10\n",
    "    def display(self):\n",
    "        print(\"In class method.....\")\n",
    "obj=ABC()\n",
    "print(obj.var)\n",
    "obj.display()"
   ]
  },
  {
   "cell_type": "code",
   "execution_count": 3,
   "id": "e915c97a",
   "metadata": {
    "scrolled": true
   },
   "outputs": [
    {
     "name": "stdout",
     "output_type": "stream",
     "text": [
      "In class method .....\n",
      "The value is  3\n"
     ]
    }
   ],
   "source": [
    "# __init__()  constructor\n",
    "class ABC:\n",
    "    def __init__(self,var):\n",
    "        print(\"In class method .....\")\n",
    "        self.va=var\n",
    "        print(\"The value is \",self.va)\n",
    "obj=ABC(3)"
   ]
  },
  {
   "cell_type": "code",
   "execution_count": 4,
   "id": "d5ea9ef8",
   "metadata": {},
   "outputs": [
    {
     "name": "stdout",
     "output_type": "stream",
     "text": [
      "10 1\n",
      "20 2\n",
      "30 3\n",
      "3\n",
      "3\n",
      "5\n",
      "3\n"
     ]
    }
   ],
   "source": [
    "class ABC():\n",
    "    class_var=0      # class variable\n",
    "    def __init__(self,var):\n",
    "        ABC.class_var += 1\n",
    "        self.var=var     # obj variable\n",
    "        print(self.var,ABC.class_var)\n",
    "o1=ABC(10)\n",
    "o2=ABC(20)\n",
    "o3=ABC(30)\n",
    "print(o1.class_var)    \n",
    "o1.class_var=5         #o1 creates its own local variable with class_var\n",
    "print(o2.class_var)\n",
    "print(o1.class_var)\n",
    "del o1.class_var      # local variable deleted so now class variable accessable\n",
    "print(o1.class_var)\n",
    "        "
   ]
  },
  {
   "cell_type": "code",
   "execution_count": 5,
   "id": "8f8cfe45",
   "metadata": {},
   "outputs": [
    {
     "name": "stdout",
     "output_type": "stream",
     "text": [
      "even\n"
     ]
    }
   ],
   "source": [
    "class Number:\n",
    "    even =0\n",
    "    def check(self,num):\n",
    "        if num%2 == 0:       # true than local variable created\n",
    "            self.even =1\n",
    "    def even_odd(self,num):\n",
    "        self.check(num)\n",
    "        if(self.even==1):   #if true means local variable is  accessible\n",
    "            print(\"even\")\n",
    "        else:\n",
    "            print(\"odd\")\n",
    "n=Number()\n",
    "n.even_odd(2)"
   ]
  },
  {
   "cell_type": "code",
   "execution_count": 6,
   "id": "cc8e4526",
   "metadata": {},
   "outputs": [
    {
     "name": "stdout",
     "output_type": "stream",
     "text": [
      "[4, 6]\n",
      "[4, 6, 10]\n"
     ]
    }
   ],
   "source": [
    "class Number:\n",
    "    evens=[]\n",
    "    odds=[]\n",
    "    def __init__(self,num):\n",
    "        self.num=num\n",
    "        if(num%2==0):\n",
    "            self.evens.append(num)\n",
    "        else:\n",
    "            self.odds.append(num)\n",
    "n1 = Number(21)\n",
    "n2 = Number(3)\n",
    "n3 = Number(4)\n",
    "n4 = Number(5)\n",
    "n5 = Number(6)\n",
    "print(n1.evens)\n",
    "n1.evens.append(10)   # as list is mutable so no local variable is created not like above\n",
    "print(n2.evens)"
   ]
  },
  {
   "cell_type": "code",
   "execution_count": 7,
   "id": "8a724680",
   "metadata": {},
   "outputs": [
    {
     "name": "stdout",
     "output_type": "stream",
     "text": [
      "deleted\n"
     ]
    }
   ],
   "source": [
    "# __del__  destructor\n",
    "class ABC:\n",
    "    def __init__(self):\n",
    "        print(\"deleted\")\n",
    "n=ABC()\n",
    "del n"
   ]
  },
  {
   "cell_type": "code",
   "execution_count": 8,
   "id": "3c80a9d3",
   "metadata": {},
   "outputs": [
    {
     "name": "stdout",
     "output_type": "stream",
     "text": [
      "Total object count is :  1         and object value is :  10\n",
      "Total object count is :  2         and object value is :  20\n",
      "Total object count is :  3         and object value is :  hj\n",
      "Now total object count is :  2          and deleted object value is :  10\n",
      "Now total object count is :  1          and deleted object value is :  20\n",
      "Now total object count is :  0          and deleted object value is :  hj\n"
     ]
    }
   ],
   "source": [
    "# constructor and destructor\n",
    "class ABC:\n",
    "    class_var=0\n",
    "    def __init__(self,var):\n",
    "        ABC.class_var += 1\n",
    "        self.var=var\n",
    "        print(\"Total object count is : \",ABC.class_var,\"\\\n",
    "        and object value is : \",self.var)\n",
    "    def __del__(self):\n",
    "        ABC.class_var -= 1\n",
    "        print(\"Now total object count is : \",ABC.class_var,\"\\\n",
    "         and deleted object value is : \",self.var)\n",
    "n1=ABC(10)\n",
    "n2=ABC(20)\n",
    "n3=ABC(\"hj\")\n",
    "del n1\n",
    "del n2\n",
    "del n3"
   ]
  },
  {
   "cell_type": "code",
   "execution_count": 10,
   "id": "974ebe77",
   "metadata": {},
   "outputs": [
    {
     "name": "stdout",
     "output_type": "stream",
     "text": [
      "From class method, var1 =  10\n",
      "From main module, var2 =  20\n",
      "From main module, var1 =  10\n"
     ]
    }
   ],
   "source": [
    "#Public and private variable\n",
    "class ABC():\n",
    "    def __init__(self,var1, var2):\n",
    "        self.var1=var1\n",
    "        self.__var2=var2\n",
    "    def display(self):\n",
    "        print(\"From class method, var1 = \",self.var1)\n",
    "        print(\"From main module, var2 = \", self.__var2)\n",
    "obj=ABC(10,20)\n",
    "obj.display()\n",
    "print(\"From main module, var1 = \",obj.var1)\n",
    "#print(\"From main module, var2 = \",obj.__var2)     #can't be accessed from outside\n",
    "# to handle this use objectName._className.__privateVariableName\n",
    "#print(\"From main module, var2 = \",obj._ABC.__var2)"
   ]
  },
  {
   "cell_type": "code",
   "execution_count": 11,
   "id": "8f508738",
   "metadata": {},
   "outputs": [
    {
     "name": "stdout",
     "output_type": "stream",
     "text": [
      "From clas method, var =  10\n"
     ]
    }
   ],
   "source": [
    "#Private method\n",
    "class ABC():\n",
    "    def __init__(self,var):\n",
    "        self.__var=var\n",
    "    def __display(self):\n",
    "        print(\"From clas method, var = \", self.__var)\n",
    "obj=ABC(10)\n",
    "obj._ABC__display()"
   ]
  },
  {
   "cell_type": "code",
   "execution_count": 12,
   "id": "b7fcfd82",
   "metadata": {},
   "outputs": [
    {
     "name": "stdout",
     "output_type": "stream",
     "text": [
      "Var is =  12\n"
     ]
    }
   ],
   "source": [
    "#calling class method from method of same class\n",
    "class ABC():\n",
    "    def __init__(self,var):\n",
    "        self.var=var\n",
    "    def display(self):\n",
    "        print(\"Var is = \",self.var)\n",
    "    def add_2(self):\n",
    "        self.var += 2\n",
    "        self.display()\n",
    "obj=ABC(10)\n",
    "obj.add_2()"
   ]
  },
  {
   "cell_type": "code",
   "execution_count": 13,
   "id": "87e8c38a",
   "metadata": {},
   "outputs": [
    {
     "name": "stdout",
     "output_type": "stream",
     "text": [
      "Var is  12\n",
      "Modified var is  120\n"
     ]
    }
   ],
   "source": [
    "# calling a func from class present outside the class\n",
    "def ten_time(b):\n",
    "    return b*10\n",
    "class ABC():\n",
    "    def __init__(self,var):\n",
    "        self.var=var\n",
    "    def display(self):\n",
    "        print(\"Var is \",self.var)\n",
    "    def modify(self):\n",
    "        self.var=ten_time(self.var)\n",
    "        self.__dis()\n",
    "    def __dis(self):\n",
    "        print(\"Modified var is \",self.var)\n",
    "obj=ABC(12)\n",
    "obj.display()\n",
    "obj.modify()\n"
   ]
  },
  {
   "cell_type": "code",
   "execution_count": 24,
   "id": "3779f574",
   "metadata": {},
   "outputs": [
    {
     "name": "stdout",
     "output_type": "stream",
     "text": [
      "var1 is :  10\n",
      "var2 is :  100\n",
      "var2 is :  15\n"
     ]
    },
    {
     "ename": "AttributeError",
     "evalue": "'ABC' object has no attribute 'var2'",
     "output_type": "error",
     "traceback": [
      "\u001b[1;31m---------------------------------------------------------------------------\u001b[0m",
      "\u001b[1;31mAttributeError\u001b[0m                            Traceback (most recent call last)",
      "Cell \u001b[1;32mIn[24], line 12\u001b[0m\n\u001b[0;32m     10\u001b[0m obj2\u001b[38;5;241m=\u001b[39mABC(\u001b[38;5;241m15\u001b[39m)\n\u001b[0;32m     11\u001b[0m \u001b[38;5;28mprint\u001b[39m(\u001b[38;5;124m\"\u001b[39m\u001b[38;5;124mvar2 is : \u001b[39m\u001b[38;5;124m\"\u001b[39m,obj2\u001b[38;5;241m.\u001b[39mvar1)\n\u001b[1;32m---> 12\u001b[0m \u001b[38;5;28mprint\u001b[39m(\u001b[38;5;124m\"\u001b[39m\u001b[38;5;124mvar2 is : \u001b[39m\u001b[38;5;124m\"\u001b[39m,\u001b[43mobj2\u001b[49m\u001b[38;5;241;43m.\u001b[39;49m\u001b[43mvar2\u001b[49m)\n",
      "\u001b[1;31mAttributeError\u001b[0m: 'ABC' object has no attribute 'var2'"
     ]
    }
   ],
   "source": [
    "#Add variables during runtime\n",
    "class ABC():\n",
    "    def __init__(self,var1):\n",
    "        self.var1=var1\n",
    "obj1=ABC(10)\n",
    "print(\"var1 is : \",obj1.var1)\n",
    "obj1.var2=100\n",
    "print(\"var2 is : \",obj1.var2)   #This variable only made for object obj1\n",
    "del obj1.var2\n",
    "obj2=ABC(15)\n",
    "print(\"var2 is : \",obj2.var1)\n",
    "print(\"var2 is : \",obj2.var2)   # var2 not for obj2"
   ]
  },
  {
   "cell_type": "code",
   "execution_count": null,
   "id": "10834ca5",
   "metadata": {},
   "outputs": [],
   "source": []
  },
  {
   "cell_type": "code",
   "execution_count": null,
   "id": "3aeb59b4",
   "metadata": {},
   "outputs": [],
   "source": []
  },
  {
   "cell_type": "code",
   "execution_count": null,
   "id": "e6f52174",
   "metadata": {},
   "outputs": [],
   "source": []
  },
  {
   "cell_type": "code",
   "execution_count": null,
   "id": "c5ce4292",
   "metadata": {},
   "outputs": [],
   "source": [
    "# a class create a new type and object is an instance(variable)\n",
    "# class provides a blueprint of object\n",
    "#functions defined in class called methods\n",
    "# data encapsulation is also called data hiding private public\n",
    "# __init__() method (constructor)\n",
    "# __del__() method  (destructor)"
   ]
  }
 ],
 "metadata": {
  "kernelspec": {
   "display_name": "Python 3 (ipykernel)",
   "language": "python",
   "name": "python3"
  },
  "language_info": {
   "codemirror_mode": {
    "name": "ipython",
    "version": 3
   },
   "file_extension": ".py",
   "mimetype": "text/x-python",
   "name": "python",
   "nbconvert_exporter": "python",
   "pygments_lexer": "ipython3",
   "version": "3.10.9"
  }
 },
 "nbformat": 4,
 "nbformat_minor": 5
}
