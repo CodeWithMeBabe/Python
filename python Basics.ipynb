{
 "cells": [
  {
   "cell_type": "code",
   "execution_count": 10,
   "id": "aa6f9cf0",
   "metadata": {},
   "outputs": [
    {
     "name": "stdout",
     "output_type": "stream",
     "text": [
      "0.33\n",
      "5.333\n"
     ]
    }
   ],
   "source": [
    "print(format(1/3,'.2f'))  # upto two decimal place\n",
    "print(format(16/3,'.3f')) #upto three decimal place"
   ]
  },
  {
   "cell_type": "code",
   "execution_count": 11,
   "id": "6e393013",
   "metadata": {},
   "outputs": [
    {
     "name": "stdout",
     "output_type": "stream",
     "text": [
      "6.0\n",
      "6\n"
     ]
    }
   ],
   "source": [
    "print(12/2)       #for float return\n",
    "print(12//2)      # for int return"
   ]
  },
  {
   "cell_type": "code",
   "execution_count": 12,
   "id": "06d7d384",
   "metadata": {},
   "outputs": [
    {
     "name": "stdout",
     "output_type": "stream",
     "text": [
      "2.800\n",
      "2.8000000000000114\n"
     ]
    }
   ],
   "source": [
    "print(format(152.8 % 3.0,'.3f'))\n",
    "print(152.8 % 3.)"
   ]
  },
  {
   "cell_type": "code",
   "execution_count": 13,
   "id": "9a09da11",
   "metadata": {},
   "outputs": [
    {
     "name": "stdout",
     "output_type": "stream",
     "text": [
      "Hello      ok\n",
      "Hello      ok\n",
      "     Hello\n",
      "done\n",
      "  hello   done\n"
     ]
    }
   ],
   "source": [
    "print(format(\"Hello\",'<10'),\"ok\")    # It will take total 10 space and write from left\n",
    "print(\"{:<10}\".format(\"Hello\"),\"ok\")   #Same as above code\n",
    "print(format(\"Hello\",'>10'))   # It will take total 10 space and write from right side\n",
    "print(\"done\")\n",
    "print(format(\"hello\",'^10'),end=\"\")  # It will take total 10 place and write in middle\n",
    "print(\"done\")\n"
   ]
  },
  {
   "cell_type": "code",
   "execution_count": 14,
   "id": "01bd4501",
   "metadata": {
    "scrolled": true
   },
   "outputs": [
    {
     "name": "stdout",
     "output_type": "stream",
     "text": [
      "What's your name\n",
      "The boy replies, \"My name is Babe\"\n",
      "hello workld ik kd fkdj\n"
     ]
    }
   ],
   "source": [
    "print('What\\'s your name')\n",
    "print(\"The boy replies, \\\"My name is Babe\\\"\")\n",
    "print(\"hello workld \\\n",
    "ik kd fkdj\")                # single escape \\ tell that go to next line without changing new line"
   ]
  },
  {
   "cell_type": "code",
   "execution_count": 15,
   "id": "63229244",
   "metadata": {},
   "outputs": [
    {
     "name": "stdout",
     "output_type": "stream",
     "text": [
      "True\n",
      "False\n"
     ]
    }
   ],
   "source": [
    "a=b=3\n",
    "print(a is b)        # if a and b has same id(location)\n",
    "a=7\n",
    "print(a is b)"
   ]
  },
  {
   "cell_type": "code",
   "execution_count": 16,
   "id": "b7b771e8",
   "metadata": {},
   "outputs": [
    {
     "name": "stdout",
     "output_type": "stream",
     "text": [
      "('a', 'bc', 78, 1.23) (12, 78)\n",
      "a\n",
      "('bc', 78)\n",
      "(78, 1.23)\n",
      "(12, 78, 12, 78)\n",
      "('a', 'bc', 78, 1.23, 12, 78)\n",
      "[1, 3, 4, 6, 1, 3, 4, 6]\n",
      "Honest,humble\n",
      "Wise,secured\n",
      "dict_keys(['Babe', 'Me'])\n",
      "dict_values(['Honest,humble', 'Wise,secured'])\n"
     ]
    }
   ],
   "source": [
    "# Tuples\n",
    "tup = ('a','bc',78,1.23)\n",
    "tup2 = (12,78)\n",
    "print(tup,tup2)\n",
    "print(tup[0])\n",
    "print(tup[1:3])\n",
    "print(tup[2:])\n",
    "print(tup2 * 2)\n",
    "print(tup + tup2)\n",
    "\n",
    "#List\n",
    "li=[1,3,4,6]\n",
    "print(li*2)\n",
    "\n",
    "# Dict\n",
    "dic={\"Babe\":\"Honest,humble\",\"Me\":\"Wise,secured\"}\n",
    "print(dic[\"Babe\"])\n",
    "print(dic[\"Me\"])\n",
    "print(dic.keys())\n",
    "print(dic.values())\n"
   ]
  },
  {
   "cell_type": "code",
   "execution_count": 17,
   "id": "44803b45",
   "metadata": {},
   "outputs": [
    {
     "name": "stdout",
     "output_type": "stream",
     "text": [
      "F\n",
      "65\n"
     ]
    }
   ],
   "source": [
    "print(chr(70))     # convert to char\n",
    "print(ord(\"A\"))    # convert to  alphabet"
   ]
  },
  {
   "cell_type": "code",
   "execution_count": 18,
   "id": "b199941e",
   "metadata": {},
   "outputs": [
    {
     "data": {
      "text/plain": [
       "' String is immutable\\n\\n new line\\n\"  print \"\\n\\t  print space/ tab\\n\\\\   next line is also part of this line\\nformat(1/3,\\'.2f\\')      upto two decimal place\\nprint(format(\"hello\",\"<30\")) \\ndel variable         #To delete variable\\nstring compare lexicographically -->The comparison proceeds from left to right, character by character.as AScii value\\n&& and || or not !\\na in num\\na not in num\\na is b return True if id(a) == id(b)\\na is not b return True if id(a) != id(b)\\nint(x),round(x),str(x),tuple(x),list(x),set(x),ord(x),chr(x),dict(x)\\n'"
      ]
     },
     "execution_count": 18,
     "metadata": {},
     "output_type": "execute_result"
    }
   ],
   "source": [
    "\"\"\" String is immutable\n",
    "\\n new line\n",
    "\\\"  print \"\n",
    "\\t  print space/ tab\n",
    "\\   next line is also part of this line\n",
    "format(1/3,'.2f')      upto two decimal place\n",
    "print(format(\"hello\",\"<30\")) \n",
    "del variable         #To delete variable\n",
    "string compare lexicographically -->The comparison proceeds from left to right, character by character.as AScii value\n",
    "&& and || or not !\n",
    "a in num\n",
    "a not in num\n",
    "a is b return True if id(a) == id(b)\n",
    "a is not b return True if id(a) != id(b)\n",
    "int(x),round(x),str(x),tuple(x),list(x),set(x),ord(x),chr(x),dict(x)\n",
    "\"\"\""
   ]
  }
 ],
 "metadata": {
  "kernelspec": {
   "display_name": "Python 3",
   "language": "python",
   "name": "python3"
  },
  "language_info": {
   "codemirror_mode": {
    "name": "ipython",
    "version": 3
   },
   "file_extension": ".py",
   "mimetype": "text/x-python",
   "name": "python",
   "nbconvert_exporter": "python",
   "pygments_lexer": "ipython3",
   "version": "3.11.0"
  }
 },
 "nbformat": 4,
 "nbformat_minor": 5
}
