{
 "cells": [
  {
   "cell_type": "markdown",
   "id": "33fc7dc2",
   "metadata": {},
   "source": [
    "# row*column size pattern"
   ]
  },
  {
   "cell_type": "code",
   "execution_count": 14,
   "id": "17dc0339",
   "metadata": {},
   "outputs": [
    {
     "name": "stdout",
     "output_type": "stream",
     "text": [
      "Enter row and column : 4 5\n",
      "* * * * * \n",
      "* * * * * \n",
      "* * * * * \n",
      "* * * * * \n"
     ]
    }
   ],
   "source": [
    "row,col=[int(i) for i in input(\"Enter row and column : \").split()]\n",
    "for i in range(1,row+1):\n",
    "    print(\"* \"*col)"
   ]
  },
  {
   "cell_type": "code",
   "execution_count": 13,
   "id": "8ea8bd92",
   "metadata": {},
   "outputs": [
    {
     "name": "stdout",
     "output_type": "stream",
     "text": [
      "Enter row and column : 4 8\n",
      "1 2 3 4 5 6 7 8 \n",
      "1 2 3 4 5 6 7 8 \n",
      "1 2 3 4 5 6 7 8 \n",
      "1 2 3 4 5 6 7 8 \n"
     ]
    }
   ],
   "source": [
    "row,col=[int(i) for i in input(\"Enter row and column : \").split()]\n",
    "for i in range(1,row+1):\n",
    "    for j in range(1,col+1):\n",
    "        print(j,end=\" \")\n",
    "    print()"
   ]
  },
  {
   "cell_type": "code",
   "execution_count": 16,
   "id": "21fe4b41",
   "metadata": {},
   "outputs": [
    {
     "name": "stdout",
     "output_type": "stream",
     "text": [
      "4 4\n",
      "1 1 1 1 \n",
      "2 2 2 2 \n",
      "3 3 3 3 \n",
      "4 4 4 4 \n"
     ]
    }
   ],
   "source": [
    "row,col=[int(i) for i in input(\"Enter row and column : \").split()]\n",
    "for i in range(1,row+1):\n",
    "    for j in range(1,col+1):\n",
    "        print(i,end=\" \")\n",
    "    print()"
   ]
  },
  {
   "cell_type": "code",
   "execution_count": 17,
   "id": "ecb32a70",
   "metadata": {},
   "outputs": [
    {
     "name": "stdout",
     "output_type": "stream",
     "text": [
      "Enter row and column : 4 4\n",
      "1 2 3 4 \n",
      "1 2 3 4 \n",
      "1 2 3 4 \n",
      "1 2 3 4 \n"
     ]
    }
   ],
   "source": [
    "row,col=[int(i) for i in input(\"Enter row and column : \").split()]\n",
    "for i in range(1,row+1):\n",
    "    for j in range(1,col+1):\n",
    "        print(j,end=\" \")\n",
    "    print()"
   ]
  },
  {
   "cell_type": "code",
   "execution_count": 20,
   "id": "7bd41405",
   "metadata": {},
   "outputs": [
    {
     "name": "stdout",
     "output_type": "stream",
     "text": [
      "Enter row and column4 8\n",
      "A B C D E F G H \n",
      "A B C D E F G H \n",
      "A B C D E F G H \n",
      "A B C D E F G H \n"
     ]
    }
   ],
   "source": [
    "row,col=[int(i) for i in input(\"Enter row and column\").split()]\n",
    "for i in range(1,row+1):\n",
    "    for j in range(1,col+1):\n",
    "        print(chr(j+64),end=\" \")\n",
    "    print()"
   ]
  },
  {
   "cell_type": "code",
   "execution_count": 22,
   "id": "633536d0",
   "metadata": {},
   "outputs": [
    {
     "name": "stdout",
     "output_type": "stream",
     "text": [
      "Enter row and columns : 4 7\n",
      "A A A A A A A \n",
      "B B B B B B B \n",
      "C C C C C C C \n",
      "D D D D D D D \n"
     ]
    }
   ],
   "source": [
    "row,col=[int(i) for i in input(\"Enter row and columns : \").split()]\n",
    "for i in range(1,row+1):\n",
    "    print((chr(64+i)+\" \")*col)"
   ]
  },
  {
   "cell_type": "markdown",
   "id": "641212e9",
   "metadata": {},
   "source": [
    "# Structure is different"
   ]
  },
  {
   "cell_type": "code",
   "execution_count": 95,
   "id": "b9568085",
   "metadata": {},
   "outputs": [
    {
     "name": "stdout",
     "output_type": "stream",
     "text": [
      "Enter row : 5\n",
      "        1 \n",
      "      1 2 3 \n",
      "    1 2 3 4 5 \n",
      "  1 2 3 4 5 6 7 \n",
      "1 2 3 4 5 6 7 8 9 \n"
     ]
    }
   ],
   "source": [
    "row=int(input(\"Enter row : \"))\n",
    "for i in range(1,row+1):\n",
    "    for j in range(1,row-i+1):\n",
    "        print(end=\"  \")\n",
    "    for j in range(1,2*i):\n",
    "        print(j,end=\" \")\n",
    "    print()"
   ]
  },
  {
   "cell_type": "code",
   "execution_count": 67,
   "id": "349179d3",
   "metadata": {},
   "outputs": [
    {
     "name": "stdout",
     "output_type": "stream",
     "text": [
      "Enter row : 7\n",
      "            1 \n",
      "          1 2 \n",
      "        1 2 3 \n",
      "      1 2 3 4 \n",
      "    1 2 3 4 5 \n",
      "  1 2 3 4 5 6 \n",
      "1 2 3 4 5 6 7 \n"
     ]
    }
   ],
   "source": [
    "row=int(input(\"Enter row : \"))\n",
    "for i in range(1,row+1):\n",
    "    for j in range(1,row-i+1):\n",
    "        print(end=\"  \")\n",
    "    for j in range(1,i+1):\n",
    "        print(j,end=\" \")\n",
    "    print()"
   ]
  },
  {
   "cell_type": "code",
   "execution_count": 51,
   "id": "25866936",
   "metadata": {},
   "outputs": [
    {
     "name": "stdout",
     "output_type": "stream",
     "text": [
      "Enter row : 5\n",
      "1 \n",
      "2 3 \n",
      "4 5 6 \n",
      "7 8 9 10 \n",
      "11 12 13 14 15 \n"
     ]
    }
   ],
   "source": [
    "row=int(input(\"Enter row : \"))\n",
    "a=1\n",
    "for i in range(1,row+1):\n",
    "    for j in range(1,i+1):\n",
    "        print(a,end=\" \")\n",
    "        a += 1\n",
    "    print()"
   ]
  },
  {
   "cell_type": "code",
   "execution_count": 47,
   "id": "c42371d7",
   "metadata": {},
   "outputs": [
    {
     "name": "stdout",
     "output_type": "stream",
     "text": [
      "Enter row : 5\n",
      "5 \n",
      "5 4 \n",
      "5 4 3 \n",
      "5 4 3 2 \n",
      "5 4 3 2 1 \n"
     ]
    }
   ],
   "source": [
    "row=int(input(\"Enter row : \"))\n",
    "for i in range(row,0,-1):\n",
    "    for j in range(row,i-1,-1):\n",
    "        print(j,end=\" \")\n",
    "    print()"
   ]
  },
  {
   "cell_type": "code",
   "execution_count": 43,
   "id": "7243629f",
   "metadata": {},
   "outputs": [
    {
     "name": "stdout",
     "output_type": "stream",
     "text": [
      "Enter row : 7\n",
      "1 2 3 4 5 6 7\n",
      "1 2 3 4 5 6\n",
      "1 2 3 4 5\n",
      "1 2 3 4\n",
      "1 2 3\n",
      "1 2\n",
      "1\n"
     ]
    }
   ],
   "source": [
    "row=int(input(\"Enter row : \"))\n",
    "for i in range(1,row+1):\n",
    "    print(*[j for j in range(1,row+2-i)])"
   ]
  },
  {
   "cell_type": "code",
   "execution_count": 37,
   "id": "62946df2",
   "metadata": {},
   "outputs": [
    {
     "name": "stdout",
     "output_type": "stream",
     "text": [
      "Enter row 4\n",
      "1\n",
      "1 2\n",
      "1 2 3\n",
      "1 2 3 4\n"
     ]
    }
   ],
   "source": [
    "row=int(input(\"Enter row \"))\n",
    "for i in range(1,row+1):\n",
    "    print(*[j for j in range(1,i+1)])"
   ]
  },
  {
   "cell_type": "code",
   "execution_count": 52,
   "id": "0c587111",
   "metadata": {},
   "outputs": [
    {
     "name": "stdout",
     "output_type": "stream",
     "text": [
      "Enter row : 5\n",
      "1 \n",
      "2 2 \n",
      "3 3 3 \n",
      "4 4 4 4 \n",
      "5 5 5 5 5 \n"
     ]
    }
   ],
   "source": [
    "row=int(input(\"Enter row : \"))\n",
    "for i in range(1,row+1):\n",
    "    for j in range(1,i+1):\n",
    "        print(i,end=\" \")\n",
    "    print()"
   ]
  },
  {
   "cell_type": "code",
   "execution_count": 58,
   "id": "e1c58397",
   "metadata": {},
   "outputs": [
    {
     "name": "stdout",
     "output_type": "stream",
     "text": [
      "7\n",
      "1 \n",
      "0 1 \n",
      "1 0 1 \n",
      "0 1 0 1 \n",
      "1 0 1 0 1 \n",
      "0 1 0 1 0 1 \n",
      "1 0 1 0 1 0 1 \n"
     ]
    }
   ],
   "source": [
    "row=int(input())\n",
    "a=0\n",
    "for i in range(1,row+1):\n",
    "    if(i%2==0):\n",
    "        a=0\n",
    "    else:\n",
    "        a=1\n",
    "    for j in range(1,i+1):\n",
    "        print(a,end=\" \")\n",
    "        if(a==0): \n",
    "            a=1\n",
    "        else: \n",
    "            a=0\n",
    "    print()"
   ]
  },
  {
   "cell_type": "code",
   "execution_count": 128,
   "id": "c8a8a5f7",
   "metadata": {},
   "outputs": [
    {
     "name": "stdout",
     "output_type": "stream",
     "text": [
      "                                1       \n",
      "                            1       1       \n",
      "                        1       2       1       \n",
      "                    1       3       3       1       \n",
      "                1       4       6       4       1       \n",
      "            1       5       10       10       5       1       \n",
      "        1       6       15       20       15       6       1       \n",
      "    1       7       21       35       35       21       7       1       \n",
      "1       8       28       56       70       56       28       8       1       \n"
     ]
    }
   ],
   "source": [
    "def fact(a):\n",
    "    if(a==0):\n",
    "        return 1\n",
    "    p=1\n",
    "    for i in range(1,a+1):\n",
    "        p *=i\n",
    "    return p\n",
    "def ncr(x,y):\n",
    "    return fact(x)//fact(y)//fact(x-y)\n",
    "#row=int(input(\"Enter number : \"))\n",
    "row=9\n",
    "for i in range(row):\n",
    "    for j in range(1,row-i):\n",
    "        print(\" \"*4,end=\"\")\n",
    "    for j in range(i+1):\n",
    "        print(\"{}       \".format(ncr(i,j)),end=\"\")\n",
    "    print()"
   ]
  },
  {
   "cell_type": "code",
   "execution_count": 97,
   "id": "f5e16b88",
   "metadata": {},
   "outputs": [
    {
     "name": "stdout",
     "output_type": "stream",
     "text": [
      "Enter row : 7\n",
      "            A \n",
      "          A B C \n",
      "        A B C D E \n",
      "      A B C D E F G \n",
      "    A B C D E F G H I \n",
      "  A B C D E F G H I J K \n",
      "A B C D E F G H I J K L M \n"
     ]
    }
   ],
   "source": [
    "row=int(input(\"Enter row : \"))\n",
    "for i in range(1,row+1):\n",
    "    for j in range(1,row-i+1):\n",
    "        print(end=\"  \")\n",
    "    for j in range(1,2*i):\n",
    "        print(chr(64+j),end=\" \")\n",
    "    print()"
   ]
  },
  {
   "cell_type": "code",
   "execution_count": 44,
   "id": "4e318a8a",
   "metadata": {},
   "outputs": [
    {
     "name": "stdout",
     "output_type": "stream",
     "text": [
      "5\n",
      "A B C D E \n",
      "A B C D \n",
      "A B C \n",
      "A B \n",
      "A \n"
     ]
    }
   ],
   "source": [
    "row=int(input())\n",
    "for i in range(1,row+1):\n",
    "    for j in range(1,row+2-i):\n",
    "        print(chr(j+64),end=\" \")\n",
    "    print()"
   ]
  },
  {
   "cell_type": "code",
   "execution_count": 38,
   "id": "a4a26bba",
   "metadata": {},
   "outputs": [
    {
     "name": "stdout",
     "output_type": "stream",
     "text": [
      "Enter row : 4\n",
      "A \n",
      "A B \n",
      "A B C \n",
      "A B C D \n"
     ]
    }
   ],
   "source": [
    "row=int(input(\"Enter row : \"))\n",
    "for i in range(1,row+1):\n",
    "    for j in range(1,i+1):\n",
    "        print(chr(64+j),end=\" \")\n",
    "    print()"
   ]
  },
  {
   "cell_type": "code",
   "execution_count": 40,
   "id": "e26c820b",
   "metadata": {},
   "outputs": [
    {
     "name": "stdout",
     "output_type": "stream",
     "text": [
      "Enter row : 4\n",
      "1 \n",
      "A B \n",
      "1 2 3 \n",
      "A B C D \n"
     ]
    }
   ],
   "source": [
    "row=int(input(\"Enter row : \"))\n",
    "for i in range(1,row+1):\n",
    "    for j in range(1,1+i):\n",
    "        if(i%2==0):\n",
    "            print(chr(64+j),end=\" \")\n",
    "        else:\n",
    "            print(j,end=\" \")\n",
    "    print()"
   ]
  },
  {
   "cell_type": "code",
   "execution_count": 41,
   "id": "959646c9",
   "metadata": {},
   "outputs": [
    {
     "name": "stdout",
     "output_type": "stream",
     "text": [
      "Enter row : 4\n",
      "* * * * \n",
      "* * * \n",
      "* * \n",
      "* \n"
     ]
    }
   ],
   "source": [
    "row=int(input(\"Enter row : \"))\n",
    "for i in range(1,row+1):\n",
    "    print(\"* \"*(row+1-i))"
   ]
  },
  {
   "cell_type": "code",
   "execution_count": 42,
   "id": "7eb55791",
   "metadata": {},
   "outputs": [
    {
     "name": "stdout",
     "output_type": "stream",
     "text": [
      "Enter row : 4\n",
      "* \n",
      "* * \n",
      "* * * \n",
      "* * * * \n"
     ]
    }
   ],
   "source": [
    "row=int(input(\"Enter row : \"))\n",
    "for i in range(1,row+1):\n",
    "    print(\"* \"*i)"
   ]
  },
  {
   "cell_type": "code",
   "execution_count": 64,
   "id": "cccb50b7",
   "metadata": {},
   "outputs": [
    {
     "name": "stdout",
     "output_type": "stream",
     "text": [
      "Enter row : 7\n",
      "            * \n",
      "          * * \n",
      "        * * * \n",
      "      * * * * \n",
      "    * * * * * \n",
      "  * * * * * * \n",
      "* * * * * * * \n"
     ]
    }
   ],
   "source": [
    "row=int(input(\"Enter row : \"))\n",
    "for i in range(1,row+1):\n",
    "    for j in range(1,row+1):\n",
    "        if((i+j)>row):\n",
    "            print(\"* \",end=\"\")\n",
    "        else:\n",
    "            print(\"  \",end=\"\")\n",
    "    print()"
   ]
  },
  {
   "cell_type": "code",
   "execution_count": 66,
   "id": "9bb73873",
   "metadata": {},
   "outputs": [
    {
     "name": "stdout",
     "output_type": "stream",
     "text": [
      "            * \n",
      "          * * \n",
      "        * * * \n",
      "      * * * * \n",
      "    * * * * * \n",
      "  * * * * * * \n",
      "* * * * * * * \n"
     ]
    }
   ],
   "source": [
    "for i in range(1,row+1):\n",
    "    for j in range(1,row-i+1):\n",
    "        print(end=\"  \")\n",
    "    for j in range(1,i+1):\n",
    "        print(\"* \",end=\"\")\n",
    "    print()"
   ]
  },
  {
   "cell_type": "code",
   "execution_count": 62,
   "id": "5da8c810",
   "metadata": {},
   "outputs": [
    {
     "name": "stdout",
     "output_type": "stream",
     "text": [
      "Enter row(odd number) : 5\n",
      "    *     \n",
      "    *     \n",
      "* * * * * \n",
      "    *     \n",
      "    *     \n"
     ]
    }
   ],
   "source": [
    "row=int(input(\"Enter row(odd number) : \"))\n",
    "for i in range(1,row+1):\n",
    "    for j in range(1,row+1):\n",
    "        if(i==(row+1)//2 or j==(row+1)//2):\n",
    "            print(\"*\",end=\" \")\n",
    "        else:\n",
    "            print(\"  \",end=\"\")\n",
    "    print()"
   ]
  },
  {
   "cell_type": "code",
   "execution_count": 63,
   "id": "09d696e4",
   "metadata": {},
   "outputs": [
    {
     "name": "stdout",
     "output_type": "stream",
     "text": [
      "Enter row : 7\n",
      "*           * \n",
      "  *       *   \n",
      "    *   *     \n",
      "      *       \n",
      "    *   *     \n",
      "  *       *   \n",
      "*           * \n"
     ]
    }
   ],
   "source": [
    "row=int(input(\"Enter row : \"))\n",
    "for i in range(1,row+1):\n",
    "    for j in range(1,row+1):\n",
    "        if(i==j or j==row+1-i):\n",
    "            print(\"* \",end=\"\")\n",
    "        else:\n",
    "            print(\"  \",end=\"\")\n",
    "    print()"
   ]
  },
  {
   "cell_type": "code",
   "execution_count": 75,
   "id": "1453d596",
   "metadata": {},
   "outputs": [
    {
     "name": "stdout",
     "output_type": "stream",
     "text": [
      "            * * * * * * * \n",
      "          * * * * * * * \n",
      "        * * * * * * * \n",
      "      * * * * * * * \n",
      "    * * * * * * * \n",
      "  * * * * * * * \n",
      "* * * * * * * \n"
     ]
    }
   ],
   "source": [
    "row=7\n",
    "patt=\"* \"*row\n",
    "for i in range(1,row+1):\n",
    "    for j in range(1,row+1):\n",
    "        if((i+j)==(row+1)):\n",
    "            print(patt,end=\"\")\n",
    "            break\n",
    "        else:\n",
    "            print(\"  \",end=\"\")\n",
    "    print()\n"
   ]
  },
  {
   "cell_type": "code",
   "execution_count": 87,
   "id": "9f000e11",
   "metadata": {},
   "outputs": [
    {
     "name": "stdout",
     "output_type": "stream",
     "text": [
      "Enter row : 7\n",
      "            * \n",
      "          * * * \n",
      "        * * * * * \n",
      "      * * * * * * * \n",
      "    * * * * * * * * * \n",
      "  * * * * * * * * * * * \n",
      "* * * * * * * * * * * * * \n"
     ]
    }
   ],
   "source": [
    "row=int(input(\"Enter row : \"))\n",
    "for i in range(1,row+1):\n",
    "    for j in range(1,row-i+1):\n",
    "        print(\"  \",end=\"\")\n",
    "    print(\"* \"*(2*i-1))"
   ]
  },
  {
   "cell_type": "code",
   "execution_count": 88,
   "id": "cda5fc75",
   "metadata": {},
   "outputs": [
    {
     "name": "stdout",
     "output_type": "stream",
     "text": [
      "Enter row : 5\n",
      "* * * * * * * * * \n",
      "  * * * * * * * \n",
      "    * * * * * \n",
      "      * * * \n",
      "        * \n"
     ]
    }
   ],
   "source": [
    "row=int(input(\"Enter row : \"))\n",
    "for i in range(1,row+1):\n",
    "    print(\"  \"*(i-1),end=\"\")\n",
    "    print(\"* \"*((row-i)*2+1))"
   ]
  },
  {
   "cell_type": "code",
   "execution_count": 93,
   "id": "a745dccb",
   "metadata": {},
   "outputs": [
    {
     "name": "stdout",
     "output_type": "stream",
     "text": [
      "Enter row : 5\n",
      "        * \n",
      "      * * * \n",
      "    * * * * * \n",
      "  * * * * * * * \n",
      "* * * * * * * * * \n",
      "  * * * * * * * \n",
      "    * * * * * \n",
      "      * * * \n",
      "        * \n"
     ]
    }
   ],
   "source": [
    "row=int(input(\"Enter row : \"))\n",
    "for i in range(1,row*2):\n",
    "    if(i<=row):\n",
    "        print(\"  \"*(row-i),end=\"\")\n",
    "        print(\"* \"*(2*i-1))\n",
    "    else:\n",
    "        i=i-row\n",
    "        print(\"  \"*i,end=\"\")\n",
    "        print(\"* \"*((row-i)*2-1))\n",
    "    \n",
    "    \n",
    "    \n"
   ]
  },
  {
   "cell_type": "code",
   "execution_count": 96,
   "id": "b9142b38",
   "metadata": {},
   "outputs": [
    {
     "name": "stdout",
     "output_type": "stream",
     "text": [
      "Enter row : 5\n",
      "        A \n",
      "      A B C \n",
      "    A B C D E \n",
      "  A B C D E F G \n",
      "A B C D E F G H I \n"
     ]
    }
   ],
   "source": [
    "row=int(input(\"Enter row : \"))\n",
    "for i in range(1,row+1):\n",
    "    for j in range(1,row-i+1):\n",
    "        print(end=\"  \")\n",
    "    for j in range(1,2*i):\n",
    "        print(chr(64+j),end=\" \")\n",
    "    print()"
   ]
  },
  {
   "cell_type": "code",
   "execution_count": null,
   "id": "195234c6",
   "metadata": {},
   "outputs": [],
   "source": []
  }
 ],
 "metadata": {
  "kernelspec": {
   "display_name": "Python 3 (ipykernel)",
   "language": "python",
   "name": "python3"
  },
  "language_info": {
   "codemirror_mode": {
    "name": "ipython",
    "version": 3
   },
   "file_extension": ".py",
   "mimetype": "text/x-python",
   "name": "python",
   "nbconvert_exporter": "python",
   "pygments_lexer": "ipython3",
   "version": "3.10.9"
  }
 },
 "nbformat": 4,
 "nbformat_minor": 5
}
